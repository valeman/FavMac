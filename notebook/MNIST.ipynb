{
 "cells": [
  {
   "cell_type": "code",
   "execution_count": 1,
   "id": "08c56ff9",
   "metadata": {},
   "outputs": [],
   "source": [
    "from importlib import reload\n",
    "import sys\n",
    "sys.path.append(\"..\")\n",
    "import os\n",
    "import persist_to_disk as ptd\n",
    "ptd.config.set_project_path(os.path.abspath(\"../\"))\n",
    "\n",
    "import pandas as pd\n",
    "import numpy as np\n",
    "import matplotlib.pyplot as plt\n",
    "import tqdm\n",
    "\n",
    "%matplotlib inline"
   ]
  },
  {
   "cell_type": "code",
   "execution_count": 2,
   "id": "222a66ea",
   "metadata": {},
   "outputs": [
    {
     "name": "stderr",
     "output_type": "stream",
     "text": [
      "100%|████████████████████| 327/327 [00:00<00:00, 345.91it/s]\n"
     ]
    }
   ],
   "source": [
    "import scripts.evaluate as se\n",
    "res_full = se.Config.tidy_run(se.Config.mnist_add())"
   ]
  },
  {
   "cell_type": "code",
   "execution_count": 3,
   "id": "408154dc",
   "metadata": {},
   "outputs": [
    {
     "name": "stdout",
     "output_type": "stream",
     "text": [
      "FavMac          36.541333\n",
      "FPCP            36.112364\n",
      "FullUniverse    35.247242\n",
      "dtype: float64\n"
     ]
    },
    {
     "data": {
      "text/plain": [
       "Text(0.5, 0, 'Target Cost')"
      ]
     },
     "execution_count": 3,
     "metadata": {},
     "output_type": "execute_result"
    },
    {
     "data": {
      "image/png": "[encoded data removed]",
      "text/plain": [
       "<Figure size 600x300 with 1 Axes>"
      ]
     },
     "metadata": {},
     "output_type": "display_data"
    }
   ],
   "source": [
    "delta = 0.1\n",
    "\n",
    "METHOD_MAPPING = { 'ClassWise': 'ClassWise', 'GP+DS':'FPCP', \"GR\": 'FavMac', 'Full': 'FullUniverse'}\n",
    "\n",
    "tc2value_m = {}\n",
    "for method, tres in res_full[delta].items():\n",
    "    if method not in METHOD_MAPPING: continue\n",
    "    tc2value_m[METHOD_MAPPING[method]] = se.Evaluator.eval_target2meanutil(tres, 'value') * 100\n",
    "    tc2value_m[METHOD_MAPPING[method]].index *= 100\n",
    "ax = pd.DataFrame(tc2value_m).plot(figsize=(6,3))\n",
    "print(pd.DataFrame(tc2value_m).dropna(how='any').mean().sort_values(ascending=False))\n",
    "ax.set_ylabel(\"Realized Value\")\n",
    "ax.set_xlabel(\"Target Cost\")"
   ]
  },
  {
   "cell_type": "code",
   "execution_count": 4,
   "id": "478504cf",
   "metadata": {},
   "outputs": [
    {
     "name": "stderr",
     "output_type": "stream",
     "text": [
      "/home/zhenlin4/miniconda3/envs/favmac/lib/python3.9/site-packages/numpy/lib/function_base.py:4527: RuntimeWarning: invalid value encountered in subtract\n",
      "  diff_b_a = subtract(b, a)\n"
     ]
    },
    {
     "data": {
      "text/html": [
       "<div>\n",
       "<style scoped>\n",
       "    .dataframe tbody tr th:only-of-type {\n",
       "        vertical-align: middle;\n",
       "    }\n",
       "\n",
       "    .dataframe tbody tr th {\n",
       "        vertical-align: top;\n",
       "    }\n",
       "\n",
       "    .dataframe thead th {\n",
       "        text-align: right;\n",
       "    }\n",
       "</style>\n",
       "<table border=\"1\" class=\"dataframe\">\n",
       "  <thead>\n",
       "    <tr style=\"text-align: right;\">\n",
       "      <th></th>\n",
       "      <th>seed</th>\n",
       "      <th>describe</th>\n",
       "      <th>metric</th>\n",
       "      <th>value</th>\n",
       "      <th>target_cost</th>\n",
       "      <th>method</th>\n",
       "      <th>delta</th>\n",
       "    </tr>\n",
       "  </thead>\n",
       "  <tbody>\n",
       "    <tr>\n",
       "      <th>0</th>\n",
       "      <td>0</td>\n",
       "      <td>count</td>\n",
       "      <td>thres</td>\n",
       "      <td>2000.000000</td>\n",
       "      <td>0.01</td>\n",
       "      <td>GV</td>\n",
       "      <td>NaN</td>\n",
       "    </tr>\n",
       "    <tr>\n",
       "      <th>1</th>\n",
       "      <td>0</td>\n",
       "      <td>count</td>\n",
       "      <td>cost</td>\n",
       "      <td>2000.000000</td>\n",
       "      <td>0.01</td>\n",
       "      <td>GV</td>\n",
       "      <td>NaN</td>\n",
       "    </tr>\n",
       "    <tr>\n",
       "      <th>2</th>\n",
       "      <td>0</td>\n",
       "      <td>count</td>\n",
       "      <td>value</td>\n",
       "      <td>2000.000000</td>\n",
       "      <td>0.01</td>\n",
       "      <td>GV</td>\n",
       "      <td>NaN</td>\n",
       "    </tr>\n",
       "    <tr>\n",
       "      <th>3</th>\n",
       "      <td>0</td>\n",
       "      <td>count</td>\n",
       "      <td>|S|</td>\n",
       "      <td>2000.000000</td>\n",
       "      <td>0.01</td>\n",
       "      <td>GV</td>\n",
       "      <td>NaN</td>\n",
       "    </tr>\n",
       "    <tr>\n",
       "      <th>4</th>\n",
       "      <td>0</td>\n",
       "      <td>count</td>\n",
       "      <td>violation</td>\n",
       "      <td>2000.000000</td>\n",
       "      <td>0.01</td>\n",
       "      <td>GV</td>\n",
       "      <td>NaN</td>\n",
       "    </tr>\n",
       "    <tr>\n",
       "      <th>...</th>\n",
       "      <td>...</td>\n",
       "      <td>...</td>\n",
       "      <td>...</td>\n",
       "      <td>...</td>\n",
       "      <td>...</td>\n",
       "      <td>...</td>\n",
       "      <td>...</td>\n",
       "    </tr>\n",
       "    <tr>\n",
       "      <th>12739</th>\n",
       "      <td>2</td>\n",
       "      <td>max</td>\n",
       "      <td>thres</td>\n",
       "      <td>inf</td>\n",
       "      <td>0.91</td>\n",
       "      <td>GP+DS</td>\n",
       "      <td>0.1</td>\n",
       "    </tr>\n",
       "    <tr>\n",
       "      <th>12740</th>\n",
       "      <td>2</td>\n",
       "      <td>max</td>\n",
       "      <td>cost</td>\n",
       "      <td>0.900000</td>\n",
       "      <td>0.91</td>\n",
       "      <td>GP+DS</td>\n",
       "      <td>0.1</td>\n",
       "    </tr>\n",
       "    <tr>\n",
       "      <th>12741</th>\n",
       "      <td>2</td>\n",
       "      <td>max</td>\n",
       "      <td>value</td>\n",
       "      <td>0.981818</td>\n",
       "      <td>0.91</td>\n",
       "      <td>GP+DS</td>\n",
       "      <td>0.1</td>\n",
       "    </tr>\n",
       "    <tr>\n",
       "      <th>12742</th>\n",
       "      <td>2</td>\n",
       "      <td>max</td>\n",
       "      <td>|S|</td>\n",
       "      <td>10.000000</td>\n",
       "      <td>0.91</td>\n",
       "      <td>GP+DS</td>\n",
       "      <td>0.1</td>\n",
       "    </tr>\n",
       "    <tr>\n",
       "      <th>12743</th>\n",
       "      <td>2</td>\n",
       "      <td>max</td>\n",
       "      <td>violation</td>\n",
       "      <td>0.000000</td>\n",
       "      <td>0.91</td>\n",
       "      <td>GP+DS</td>\n",
       "      <td>0.1</td>\n",
       "    </tr>\n",
       "  </tbody>\n",
       "</table>\n",
       "<p>12744 rows × 7 columns</p>\n",
       "</div>"
      ],
      "text/plain": [
       "      seed describe     metric        value  target_cost method  delta\n",
       "0        0    count      thres  2000.000000         0.01     GV    NaN\n",
       "1        0    count       cost  2000.000000         0.01     GV    NaN\n",
       "2        0    count      value  2000.000000         0.01     GV    NaN\n",
       "3        0    count        |S|  2000.000000         0.01     GV    NaN\n",
       "4        0    count  violation  2000.000000         0.01     GV    NaN\n",
       "...    ...      ...        ...          ...          ...    ...    ...\n",
       "12739    2      max      thres          inf         0.91  GP+DS    0.1\n",
       "12740    2      max       cost     0.900000         0.91  GP+DS    0.1\n",
       "12741    2      max      value     0.981818         0.91  GP+DS    0.1\n",
       "12742    2      max        |S|    10.000000         0.91  GP+DS    0.1\n",
       "12743    2      max  violation     0.000000         0.91  GP+DS    0.1\n",
       "\n",
       "[12744 rows x 7 columns]"
      ]
     },
     "execution_count": 4,
     "metadata": {},
     "output_type": "execute_result"
    }
   ],
   "source": [
    "# The results are summarized in this flat table.\n",
    "# For example, the last row means the *max* (describe) of *violation* (metric) is 0.0 (value) for GreedyProba+DeepSet (aka FPCP) \n",
    "# given seed, target_cost, and delta\n",
    "se.Evaluator.flatten_summary(res_full)"
   ]
  },
  {
   "cell_type": "code",
   "execution_count": null,
   "id": "d1419ddf",
   "metadata": {},
   "outputs": [],
   "source": []
  }
 ],
 "metadata": {
  "kernelspec": {
   "display_name": "Python 3 (ipykernel)",
   "language": "python",
   "name": "python3"
  },
  "language_info": {
   "codemirror_mode": {
    "name": "ipython",
    "version": 3
   },
   "file_extension": ".py",
   "mimetype": "text/x-python",
   "name": "python",
   "nbconvert_exporter": "python",
   "pygments_lexer": "ipython3",
   "version": "3.9.13"
  }
 },
 "nbformat": 4,
 "nbformat_minor": 5
}
